{
 "cells": [
  {
   "cell_type": "markdown",
   "metadata": {},
   "source": [
    "# KPMG Virtual Internship Project\n",
    "\n",
    "## Task 1: Data Quality Assessment\n",
    "### Assess the data quality and prepare for analysis"
   ]
  },
  {
   "cell_type": "markdown",
   "metadata": {},
   "source": [
    "KPMG were provided with the following datasets:\n",
    " - Customer Demographic \n",
    " - Customer Addresses\n",
    " - Transaction data in the past three months"
   ]
  },
  {
   "cell_type": "code",
   "execution_count": 1,
   "metadata": {},
   "outputs": [],
   "source": [
    "#importing libraries\n",
    "import pandas as pd"
   ]
  },
  {
   "cell_type": "markdown",
   "metadata": {},
   "source": [
    "## Read data"
   ]
  },
  {
   "cell_type": "code",
   "execution_count": 2,
   "metadata": {},
   "outputs": [],
   "source": [
    "# function to create dataframes from excel sheets\n",
    "def create_df(filename, sheet_name):\n",
    "    return pd.read_excel(filename, sheet_name=sheet_name, header=1)"
   ]
  },
  {
   "cell_type": "code",
   "execution_count": 5,
   "metadata": {},
   "outputs": [],
   "source": [
    "# excel workbook\n",
    "file = '../data/KPMG_VI_New_raw_data_update_final.xlsx'"
   ]
  },
  {
   "cell_type": "markdown",
   "metadata": {},
   "source": [
    "## Transactions"
   ]
  },
  {
   "cell_type": "code",
   "execution_count": 6,
   "metadata": {
    "scrolled": false
   },
   "outputs": [],
   "source": [
    "# transactions dataframe\n",
    "transactions = create_df(file, 'Transactions')\n"
   ]
  },
  {
   "cell_type": "code",
   "execution_count": 7,
   "metadata": {},
   "outputs": [
    {
     "data": {
      "text/html": [
       "<div>\n",
       "<style scoped>\n",
       "    .dataframe tbody tr th:only-of-type {\n",
       "        vertical-align: middle;\n",
       "    }\n",
       "\n",
       "    .dataframe tbody tr th {\n",
       "        vertical-align: top;\n",
       "    }\n",
       "\n",
       "    .dataframe thead th {\n",
       "        text-align: right;\n",
       "    }\n",
       "</style>\n",
       "<table border=\"1\" class=\"dataframe\">\n",
       "  <thead>\n",
       "    <tr style=\"text-align: right;\">\n",
       "      <th></th>\n",
       "      <th>transaction_id</th>\n",
       "      <th>product_id</th>\n",
       "      <th>customer_id</th>\n",
       "      <th>transaction_date</th>\n",
       "      <th>online_order</th>\n",
       "      <th>order_status</th>\n",
       "      <th>brand</th>\n",
       "      <th>product_line</th>\n",
       "      <th>product_class</th>\n",
       "      <th>product_size</th>\n",
       "      <th>list_price</th>\n",
       "      <th>standard_cost</th>\n",
       "      <th>product_first_sold_date</th>\n",
       "    </tr>\n",
       "  </thead>\n",
       "  <tbody>\n",
       "    <tr>\n",
       "      <th>0</th>\n",
       "      <td>1</td>\n",
       "      <td>2</td>\n",
       "      <td>2950</td>\n",
       "      <td>2017-02-25</td>\n",
       "      <td>0.0</td>\n",
       "      <td>Approved</td>\n",
       "      <td>Solex</td>\n",
       "      <td>Standard</td>\n",
       "      <td>medium</td>\n",
       "      <td>medium</td>\n",
       "      <td>71.49</td>\n",
       "      <td>53.62</td>\n",
       "      <td>41245.0</td>\n",
       "    </tr>\n",
       "    <tr>\n",
       "      <th>1</th>\n",
       "      <td>2</td>\n",
       "      <td>3</td>\n",
       "      <td>3120</td>\n",
       "      <td>2017-05-21</td>\n",
       "      <td>1.0</td>\n",
       "      <td>Approved</td>\n",
       "      <td>Trek Bicycles</td>\n",
       "      <td>Standard</td>\n",
       "      <td>medium</td>\n",
       "      <td>large</td>\n",
       "      <td>2091.47</td>\n",
       "      <td>388.92</td>\n",
       "      <td>41701.0</td>\n",
       "    </tr>\n",
       "    <tr>\n",
       "      <th>2</th>\n",
       "      <td>3</td>\n",
       "      <td>37</td>\n",
       "      <td>402</td>\n",
       "      <td>2017-10-16</td>\n",
       "      <td>0.0</td>\n",
       "      <td>Approved</td>\n",
       "      <td>OHM Cycles</td>\n",
       "      <td>Standard</td>\n",
       "      <td>low</td>\n",
       "      <td>medium</td>\n",
       "      <td>1793.43</td>\n",
       "      <td>248.82</td>\n",
       "      <td>36361.0</td>\n",
       "    </tr>\n",
       "    <tr>\n",
       "      <th>3</th>\n",
       "      <td>4</td>\n",
       "      <td>88</td>\n",
       "      <td>3135</td>\n",
       "      <td>2017-08-31</td>\n",
       "      <td>0.0</td>\n",
       "      <td>Approved</td>\n",
       "      <td>Norco Bicycles</td>\n",
       "      <td>Standard</td>\n",
       "      <td>medium</td>\n",
       "      <td>medium</td>\n",
       "      <td>1198.46</td>\n",
       "      <td>381.10</td>\n",
       "      <td>36145.0</td>\n",
       "    </tr>\n",
       "    <tr>\n",
       "      <th>4</th>\n",
       "      <td>5</td>\n",
       "      <td>78</td>\n",
       "      <td>787</td>\n",
       "      <td>2017-10-01</td>\n",
       "      <td>1.0</td>\n",
       "      <td>Approved</td>\n",
       "      <td>Giant Bicycles</td>\n",
       "      <td>Standard</td>\n",
       "      <td>medium</td>\n",
       "      <td>large</td>\n",
       "      <td>1765.30</td>\n",
       "      <td>709.48</td>\n",
       "      <td>42226.0</td>\n",
       "    </tr>\n",
       "  </tbody>\n",
       "</table>\n",
       "</div>"
      ],
      "text/plain": [
       "   transaction_id  product_id  customer_id transaction_date  online_order  \\\n",
       "0               1           2         2950       2017-02-25           0.0   \n",
       "1               2           3         3120       2017-05-21           1.0   \n",
       "2               3          37          402       2017-10-16           0.0   \n",
       "3               4          88         3135       2017-08-31           0.0   \n",
       "4               5          78          787       2017-10-01           1.0   \n",
       "\n",
       "  order_status           brand product_line product_class product_size  \\\n",
       "0     Approved           Solex     Standard        medium       medium   \n",
       "1     Approved   Trek Bicycles     Standard        medium        large   \n",
       "2     Approved      OHM Cycles     Standard           low       medium   \n",
       "3     Approved  Norco Bicycles     Standard        medium       medium   \n",
       "4     Approved  Giant Bicycles     Standard        medium        large   \n",
       "\n",
       "   list_price  standard_cost  product_first_sold_date  \n",
       "0       71.49          53.62                  41245.0  \n",
       "1     2091.47         388.92                  41701.0  \n",
       "2     1793.43         248.82                  36361.0  \n",
       "3     1198.46         381.10                  36145.0  \n",
       "4     1765.30         709.48                  42226.0  "
      ]
     },
     "execution_count": 7,
     "metadata": {},
     "output_type": "execute_result"
    }
   ],
   "source": [
    "transactions.head()"
   ]
  },
  {
   "cell_type": "code",
   "execution_count": 8,
   "metadata": {},
   "outputs": [
    {
     "name": "stdout",
     "output_type": "stream",
     "text": [
      "<class 'pandas.core.frame.DataFrame'>\n",
      "RangeIndex: 20000 entries, 0 to 19999\n",
      "Data columns (total 13 columns):\n",
      " #   Column                   Non-Null Count  Dtype         \n",
      "---  ------                   --------------  -----         \n",
      " 0   transaction_id           20000 non-null  int64         \n",
      " 1   product_id               20000 non-null  int64         \n",
      " 2   customer_id              20000 non-null  int64         \n",
      " 3   transaction_date         20000 non-null  datetime64[ns]\n",
      " 4   online_order             19640 non-null  float64       \n",
      " 5   order_status             20000 non-null  object        \n",
      " 6   brand                    19803 non-null  object        \n",
      " 7   product_line             19803 non-null  object        \n",
      " 8   product_class            19803 non-null  object        \n",
      " 9   product_size             19803 non-null  object        \n",
      " 10  list_price               20000 non-null  float64       \n",
      " 11  standard_cost            19803 non-null  float64       \n",
      " 12  product_first_sold_date  19803 non-null  float64       \n",
      "dtypes: datetime64[ns](1), float64(4), int64(3), object(5)\n",
      "memory usage: 2.0+ MB\n"
     ]
    }
   ],
   "source": [
    "transactions.info()"
   ]
  },
  {
   "cell_type": "code",
   "execution_count": 9,
   "metadata": {},
   "outputs": [
    {
     "data": {
      "text/plain": [
       "transaction_id               0\n",
       "product_id                   0\n",
       "customer_id                  0\n",
       "transaction_date             0\n",
       "online_order               360\n",
       "order_status                 0\n",
       "brand                      197\n",
       "product_line               197\n",
       "product_class              197\n",
       "product_size               197\n",
       "list_price                   0\n",
       "standard_cost              197\n",
       "product_first_sold_date    197\n",
       "dtype: int64"
      ]
     },
     "execution_count": 9,
     "metadata": {},
     "output_type": "execute_result"
    }
   ],
   "source": [
    "# checking for null values\n",
    "transactions.isna().sum()"
   ]
  },
  {
   "cell_type": "markdown",
   "metadata": {},
   "source": [
    "There is missing values in the following columns:\n",
    "- `online_order` : 360\n",
    "- `brand`: 197\n",
    "- `product_line`: 197\n",
    "- `product_class`: 197\n",
    "- `product_size`: 197\n",
    "- `standard_cost` : 197\n",
    "- `product_first_sold_date` : 197"
   ]
  },
  {
   "cell_type": "code",
   "execution_count": 10,
   "metadata": {},
   "outputs": [],
   "source": [
    "# function to calculate missing percentage\n",
    "def miss_percent(df, column):\n",
    "    miss = (df[column].isna().sum() / len(df[column]))*100\n",
    "    return print(f'There is {miss:.2f} percent of missing values in {column}')"
   ]
  },
  {
   "cell_type": "code",
   "execution_count": 11,
   "metadata": {},
   "outputs": [
    {
     "name": "stdout",
     "output_type": "stream",
     "text": [
      "There is 1.80 percent of missing values in online_order\n",
      "There is 0.98 percent of missing values in brand\n",
      "There is 0.98 percent of missing values in product_line\n",
      "There is 0.98 percent of missing values in product_class\n",
      "There is 0.98 percent of missing values in product_size\n",
      "There is 0.98 percent of missing values in standard_cost\n",
      "There is 0.98 percent of missing values in product_first_sold_date\n"
     ]
    }
   ],
   "source": [
    "# understanding size of missing values\n",
    "miss_percent(transactions, 'online_order')\n",
    "miss_percent(transactions, 'brand')\n",
    "miss_percent(transactions, 'product_line')\n",
    "miss_percent(transactions, 'product_class')\n",
    "miss_percent(transactions, 'product_size')\n",
    "miss_percent(transactions, 'standard_cost')\n",
    "miss_percent(transactions, 'product_first_sold_date')"
   ]
  },
  {
   "cell_type": "markdown",
   "metadata": {},
   "source": [
    "The missing values are not big compared to the total size of the values.\n",
    "Depending on the analysis, they will be treated accordingly."
   ]
  },
  {
   "cell_type": "code",
   "execution_count": 12,
   "metadata": {},
   "outputs": [
    {
     "data": {
      "text/plain": [
       "0"
      ]
     },
     "execution_count": 12,
     "metadata": {},
     "output_type": "execute_result"
    }
   ],
   "source": [
    "# checking for duplicate values\n",
    "transactions.duplicated().sum()"
   ]
  },
  {
   "cell_type": "markdown",
   "metadata": {},
   "source": [
    "There are no duplicate values."
   ]
  },
  {
   "cell_type": "markdown",
   "metadata": {},
   "source": [
    "### Exploring columns"
   ]
  },
  {
   "cell_type": "code",
   "execution_count": 13,
   "metadata": {},
   "outputs": [],
   "source": [
    "columns = list(transactions.columns)"
   ]
  },
  {
   "cell_type": "code",
   "execution_count": 14,
   "metadata": {},
   "outputs": [],
   "source": [
    "# function to get value counts\n",
    "def count_values(df, columns):\n",
    "    for col in columns:\n",
    "        print(f\"Value counts for {col}:\")\n",
    "        print(df[col].value_counts())\n",
    "        print(\"\\n\")"
   ]
  },
  {
   "cell_type": "code",
   "execution_count": 15,
   "metadata": {
    "scrolled": false
   },
   "outputs": [
    {
     "name": "stdout",
     "output_type": "stream",
     "text": [
      "Value counts for transaction_id:\n",
      "2047     1\n",
      "10912    1\n",
      "12947    1\n",
      "2708     1\n",
      "661      1\n",
      "        ..\n",
      "7481     1\n",
      "1338     1\n",
      "3387     1\n",
      "13628    1\n",
      "2049     1\n",
      "Name: transaction_id, Length: 20000, dtype: int64\n",
      "\n",
      "\n",
      "Value counts for product_id:\n",
      "0      1378\n",
      "3       354\n",
      "1       311\n",
      "35      268\n",
      "38      267\n",
      "       ... \n",
      "71      137\n",
      "8       136\n",
      "16      136\n",
      "100     130\n",
      "47      121\n",
      "Name: product_id, Length: 101, dtype: int64\n",
      "\n",
      "\n",
      "Value counts for customer_id:\n",
      "2183    14\n",
      "1068    14\n",
      "2476    14\n",
      "2072    13\n",
      "1672    13\n",
      "        ..\n",
      "2395     1\n",
      "1569     1\n",
      "1203     1\n",
      "2271     1\n",
      "1544     1\n",
      "Name: customer_id, Length: 3494, dtype: int64\n",
      "\n",
      "\n",
      "Value counts for transaction_date:\n",
      "2017-02-14    82\n",
      "2017-08-18    82\n",
      "2017-10-15    76\n",
      "2017-01-31    73\n",
      "2017-12-19    71\n",
      "              ..\n",
      "2017-01-12    38\n",
      "2017-12-07    37\n",
      "2017-03-29    36\n",
      "2017-09-25    35\n",
      "2017-10-19    32\n",
      "Name: transaction_date, Length: 364, dtype: int64\n",
      "\n",
      "\n",
      "Value counts for online_order:\n",
      "1.0    9829\n",
      "0.0    9811\n",
      "Name: online_order, dtype: int64\n",
      "\n",
      "\n",
      "Value counts for order_status:\n",
      "Approved     19821\n",
      "Cancelled      179\n",
      "Name: order_status, dtype: int64\n",
      "\n",
      "\n",
      "Value counts for brand:\n",
      "Solex             4253\n",
      "Giant Bicycles    3312\n",
      "WeareA2B          3295\n",
      "OHM Cycles        3043\n",
      "Trek Bicycles     2990\n",
      "Norco Bicycles    2910\n",
      "Name: brand, dtype: int64\n",
      "\n",
      "\n",
      "Value counts for product_line:\n",
      "Standard    14176\n",
      "Road         3970\n",
      "Touring      1234\n",
      "Mountain      423\n",
      "Name: product_line, dtype: int64\n",
      "\n",
      "\n",
      "Value counts for product_class:\n",
      "medium    13826\n",
      "high       3013\n",
      "low        2964\n",
      "Name: product_class, dtype: int64\n",
      "\n",
      "\n",
      "Value counts for product_size:\n",
      "medium    12990\n",
      "large      3976\n",
      "small      2837\n",
      "Name: product_size, dtype: int64\n",
      "\n",
      "\n",
      "Value counts for list_price:\n",
      "2091.47    465\n",
      "1403.50    396\n",
      "71.49      274\n",
      "1231.15    235\n",
      "1890.39    233\n",
      "          ... \n",
      "489.58       1\n",
      "1348.41      1\n",
      "883.91       1\n",
      "1220.66      1\n",
      "1142.89      1\n",
      "Name: list_price, Length: 296, dtype: int64\n",
      "\n",
      "\n",
      "Value counts for standard_cost:\n",
      "388.920000    465\n",
      "954.820000    396\n",
      "53.620000     274\n",
      "161.600000    235\n",
      "260.140000    233\n",
      "             ... \n",
      "151.960000    124\n",
      "206.350000    114\n",
      "270.299988      1\n",
      "667.400024      1\n",
      "312.735016      1\n",
      "Name: standard_cost, Length: 103, dtype: int64\n",
      "\n",
      "\n",
      "Value counts for product_first_sold_date:\n",
      "33879.0    234\n",
      "41064.0    229\n",
      "37823.0    227\n",
      "39880.0    222\n",
      "38216.0    220\n",
      "          ... \n",
      "41848.0    169\n",
      "42404.0    168\n",
      "41922.0    166\n",
      "37659.0    163\n",
      "34586.0    162\n",
      "Name: product_first_sold_date, Length: 100, dtype: int64\n",
      "\n",
      "\n"
     ]
    }
   ],
   "source": [
    "count_values(transactions, columns)"
   ]
  },
  {
   "cell_type": "markdown",
   "metadata": {},
   "source": [
    "`online_order` seems to contain binary features where `1` might denote `YES` and `0` denotes `NO`.<br>\n",
    "The client will need to explain that column."
   ]
  },
  {
   "cell_type": "code",
   "execution_count": 16,
   "metadata": {},
   "outputs": [
    {
     "data": {
      "text/plain": [
       "0   1970-01-01 11:27:25\n",
       "1   1970-01-01 11:35:01\n",
       "2   1970-01-01 10:06:01\n",
       "3   1970-01-01 10:02:25\n",
       "4   1970-01-01 11:43:46\n",
       "Name: product_first_sold_date, dtype: datetime64[ns]"
      ]
     },
     "execution_count": 16,
     "metadata": {},
     "output_type": "execute_result"
    }
   ],
   "source": [
    "# converting column to datetime\n",
    "transactions['product_first_sold_date'] = pd.to_datetime(transactions['product_first_sold_date'], unit='s')\n",
    "transactions['product_first_sold_date'].head()"
   ]
  },
  {
   "cell_type": "code",
   "execution_count": 17,
   "metadata": {},
   "outputs": [
    {
     "data": {
      "text/html": [
       "<div>\n",
       "<style scoped>\n",
       "    .dataframe tbody tr th:only-of-type {\n",
       "        vertical-align: middle;\n",
       "    }\n",
       "\n",
       "    .dataframe tbody tr th {\n",
       "        vertical-align: top;\n",
       "    }\n",
       "\n",
       "    .dataframe thead th {\n",
       "        text-align: right;\n",
       "    }\n",
       "</style>\n",
       "<table border=\"1\" class=\"dataframe\">\n",
       "  <thead>\n",
       "    <tr style=\"text-align: right;\">\n",
       "      <th></th>\n",
       "      <th>transaction_id</th>\n",
       "      <th>product_id</th>\n",
       "      <th>customer_id</th>\n",
       "      <th>transaction_date</th>\n",
       "      <th>online_order</th>\n",
       "      <th>order_status</th>\n",
       "      <th>brand</th>\n",
       "      <th>product_line</th>\n",
       "      <th>product_class</th>\n",
       "      <th>product_size</th>\n",
       "      <th>list_price</th>\n",
       "      <th>standard_cost</th>\n",
       "      <th>product_first_sold_date</th>\n",
       "    </tr>\n",
       "  </thead>\n",
       "  <tbody>\n",
       "    <tr>\n",
       "      <th>0</th>\n",
       "      <td>1</td>\n",
       "      <td>2</td>\n",
       "      <td>2950</td>\n",
       "      <td>2017-02-25</td>\n",
       "      <td>0.0</td>\n",
       "      <td>Approved</td>\n",
       "      <td>Solex</td>\n",
       "      <td>Standard</td>\n",
       "      <td>medium</td>\n",
       "      <td>medium</td>\n",
       "      <td>71.49</td>\n",
       "      <td>53.62</td>\n",
       "      <td>1970-01-01 11:27:25</td>\n",
       "    </tr>\n",
       "    <tr>\n",
       "      <th>1</th>\n",
       "      <td>2</td>\n",
       "      <td>3</td>\n",
       "      <td>3120</td>\n",
       "      <td>2017-05-21</td>\n",
       "      <td>1.0</td>\n",
       "      <td>Approved</td>\n",
       "      <td>Trek Bicycles</td>\n",
       "      <td>Standard</td>\n",
       "      <td>medium</td>\n",
       "      <td>large</td>\n",
       "      <td>2091.47</td>\n",
       "      <td>388.92</td>\n",
       "      <td>1970-01-01 11:35:01</td>\n",
       "    </tr>\n",
       "    <tr>\n",
       "      <th>2</th>\n",
       "      <td>3</td>\n",
       "      <td>37</td>\n",
       "      <td>402</td>\n",
       "      <td>2017-10-16</td>\n",
       "      <td>0.0</td>\n",
       "      <td>Approved</td>\n",
       "      <td>OHM Cycles</td>\n",
       "      <td>Standard</td>\n",
       "      <td>low</td>\n",
       "      <td>medium</td>\n",
       "      <td>1793.43</td>\n",
       "      <td>248.82</td>\n",
       "      <td>1970-01-01 10:06:01</td>\n",
       "    </tr>\n",
       "    <tr>\n",
       "      <th>3</th>\n",
       "      <td>4</td>\n",
       "      <td>88</td>\n",
       "      <td>3135</td>\n",
       "      <td>2017-08-31</td>\n",
       "      <td>0.0</td>\n",
       "      <td>Approved</td>\n",
       "      <td>Norco Bicycles</td>\n",
       "      <td>Standard</td>\n",
       "      <td>medium</td>\n",
       "      <td>medium</td>\n",
       "      <td>1198.46</td>\n",
       "      <td>381.10</td>\n",
       "      <td>1970-01-01 10:02:25</td>\n",
       "    </tr>\n",
       "    <tr>\n",
       "      <th>4</th>\n",
       "      <td>5</td>\n",
       "      <td>78</td>\n",
       "      <td>787</td>\n",
       "      <td>2017-10-01</td>\n",
       "      <td>1.0</td>\n",
       "      <td>Approved</td>\n",
       "      <td>Giant Bicycles</td>\n",
       "      <td>Standard</td>\n",
       "      <td>medium</td>\n",
       "      <td>large</td>\n",
       "      <td>1765.30</td>\n",
       "      <td>709.48</td>\n",
       "      <td>1970-01-01 11:43:46</td>\n",
       "    </tr>\n",
       "    <tr>\n",
       "      <th>...</th>\n",
       "      <td>...</td>\n",
       "      <td>...</td>\n",
       "      <td>...</td>\n",
       "      <td>...</td>\n",
       "      <td>...</td>\n",
       "      <td>...</td>\n",
       "      <td>...</td>\n",
       "      <td>...</td>\n",
       "      <td>...</td>\n",
       "      <td>...</td>\n",
       "      <td>...</td>\n",
       "      <td>...</td>\n",
       "      <td>...</td>\n",
       "    </tr>\n",
       "    <tr>\n",
       "      <th>19995</th>\n",
       "      <td>19996</td>\n",
       "      <td>51</td>\n",
       "      <td>1018</td>\n",
       "      <td>2017-06-24</td>\n",
       "      <td>1.0</td>\n",
       "      <td>Approved</td>\n",
       "      <td>OHM Cycles</td>\n",
       "      <td>Standard</td>\n",
       "      <td>high</td>\n",
       "      <td>medium</td>\n",
       "      <td>2005.66</td>\n",
       "      <td>1203.40</td>\n",
       "      <td>1970-01-01 10:30:23</td>\n",
       "    </tr>\n",
       "    <tr>\n",
       "      <th>19996</th>\n",
       "      <td>19997</td>\n",
       "      <td>41</td>\n",
       "      <td>127</td>\n",
       "      <td>2017-11-09</td>\n",
       "      <td>1.0</td>\n",
       "      <td>Approved</td>\n",
       "      <td>Solex</td>\n",
       "      <td>Road</td>\n",
       "      <td>medium</td>\n",
       "      <td>medium</td>\n",
       "      <td>416.98</td>\n",
       "      <td>312.74</td>\n",
       "      <td>1970-01-01 09:52:40</td>\n",
       "    </tr>\n",
       "    <tr>\n",
       "      <th>19997</th>\n",
       "      <td>19998</td>\n",
       "      <td>87</td>\n",
       "      <td>2284</td>\n",
       "      <td>2017-04-14</td>\n",
       "      <td>1.0</td>\n",
       "      <td>Approved</td>\n",
       "      <td>OHM Cycles</td>\n",
       "      <td>Standard</td>\n",
       "      <td>medium</td>\n",
       "      <td>medium</td>\n",
       "      <td>1636.90</td>\n",
       "      <td>44.71</td>\n",
       "      <td>1970-01-01 11:13:30</td>\n",
       "    </tr>\n",
       "    <tr>\n",
       "      <th>19998</th>\n",
       "      <td>19999</td>\n",
       "      <td>6</td>\n",
       "      <td>2764</td>\n",
       "      <td>2017-07-03</td>\n",
       "      <td>0.0</td>\n",
       "      <td>Approved</td>\n",
       "      <td>OHM Cycles</td>\n",
       "      <td>Standard</td>\n",
       "      <td>high</td>\n",
       "      <td>medium</td>\n",
       "      <td>227.88</td>\n",
       "      <td>136.73</td>\n",
       "      <td>1970-01-01 10:36:56</td>\n",
       "    </tr>\n",
       "    <tr>\n",
       "      <th>19999</th>\n",
       "      <td>20000</td>\n",
       "      <td>11</td>\n",
       "      <td>1144</td>\n",
       "      <td>2017-09-22</td>\n",
       "      <td>1.0</td>\n",
       "      <td>Approved</td>\n",
       "      <td>Trek Bicycles</td>\n",
       "      <td>Standard</td>\n",
       "      <td>medium</td>\n",
       "      <td>small</td>\n",
       "      <td>1775.81</td>\n",
       "      <td>1580.47</td>\n",
       "      <td>1970-01-01 10:05:34</td>\n",
       "    </tr>\n",
       "  </tbody>\n",
       "</table>\n",
       "<p>20000 rows × 13 columns</p>\n",
       "</div>"
      ],
      "text/plain": [
       "       transaction_id  product_id  customer_id transaction_date  online_order  \\\n",
       "0                   1           2         2950       2017-02-25           0.0   \n",
       "1                   2           3         3120       2017-05-21           1.0   \n",
       "2                   3          37          402       2017-10-16           0.0   \n",
       "3                   4          88         3135       2017-08-31           0.0   \n",
       "4                   5          78          787       2017-10-01           1.0   \n",
       "...               ...         ...          ...              ...           ...   \n",
       "19995           19996          51         1018       2017-06-24           1.0   \n",
       "19996           19997          41          127       2017-11-09           1.0   \n",
       "19997           19998          87         2284       2017-04-14           1.0   \n",
       "19998           19999           6         2764       2017-07-03           0.0   \n",
       "19999           20000          11         1144       2017-09-22           1.0   \n",
       "\n",
       "      order_status           brand product_line product_class product_size  \\\n",
       "0         Approved           Solex     Standard        medium       medium   \n",
       "1         Approved   Trek Bicycles     Standard        medium        large   \n",
       "2         Approved      OHM Cycles     Standard           low       medium   \n",
       "3         Approved  Norco Bicycles     Standard        medium       medium   \n",
       "4         Approved  Giant Bicycles     Standard        medium        large   \n",
       "...            ...             ...          ...           ...          ...   \n",
       "19995     Approved      OHM Cycles     Standard          high       medium   \n",
       "19996     Approved           Solex         Road        medium       medium   \n",
       "19997     Approved      OHM Cycles     Standard        medium       medium   \n",
       "19998     Approved      OHM Cycles     Standard          high       medium   \n",
       "19999     Approved   Trek Bicycles     Standard        medium        small   \n",
       "\n",
       "       list_price  standard_cost product_first_sold_date  \n",
       "0           71.49          53.62     1970-01-01 11:27:25  \n",
       "1         2091.47         388.92     1970-01-01 11:35:01  \n",
       "2         1793.43         248.82     1970-01-01 10:06:01  \n",
       "3         1198.46         381.10     1970-01-01 10:02:25  \n",
       "4         1765.30         709.48     1970-01-01 11:43:46  \n",
       "...           ...            ...                     ...  \n",
       "19995     2005.66        1203.40     1970-01-01 10:30:23  \n",
       "19996      416.98         312.74     1970-01-01 09:52:40  \n",
       "19997     1636.90          44.71     1970-01-01 11:13:30  \n",
       "19998      227.88         136.73     1970-01-01 10:36:56  \n",
       "19999     1775.81        1580.47     1970-01-01 10:05:34  \n",
       "\n",
       "[20000 rows x 13 columns]"
      ]
     },
     "execution_count": 17,
     "metadata": {},
     "output_type": "execute_result"
    }
   ],
   "source": [
    "transactions"
   ]
  },
  {
   "cell_type": "markdown",
   "metadata": {},
   "source": [
    "This column had float data type. The column name states that it is a date hence the conversion<br>\n",
    "The values however do not seem to be correct because they indicate that the transactions all happened on the same day on different times."
   ]
  },
  {
   "cell_type": "markdown",
   "metadata": {},
   "source": [
    "## New Customer List"
   ]
  },
  {
   "cell_type": "code",
   "execution_count": 18,
   "metadata": {},
   "outputs": [],
   "source": [
    "new_customer_list = create_df(file, 'NewCustomerList')"
   ]
  },
  {
   "cell_type": "code",
   "execution_count": 19,
   "metadata": {},
   "outputs": [
    {
     "data": {
      "text/html": [
       "<div>\n",
       "<style scoped>\n",
       "    .dataframe tbody tr th:only-of-type {\n",
       "        vertical-align: middle;\n",
       "    }\n",
       "\n",
       "    .dataframe tbody tr th {\n",
       "        vertical-align: top;\n",
       "    }\n",
       "\n",
       "    .dataframe thead th {\n",
       "        text-align: right;\n",
       "    }\n",
       "</style>\n",
       "<table border=\"1\" class=\"dataframe\">\n",
       "  <thead>\n",
       "    <tr style=\"text-align: right;\">\n",
       "      <th></th>\n",
       "      <th>first_name</th>\n",
       "      <th>last_name</th>\n",
       "      <th>gender</th>\n",
       "      <th>past_3_years_bike_related_purchases</th>\n",
       "      <th>DOB</th>\n",
       "      <th>job_title</th>\n",
       "      <th>job_industry_category</th>\n",
       "      <th>wealth_segment</th>\n",
       "      <th>deceased_indicator</th>\n",
       "      <th>owns_car</th>\n",
       "      <th>...</th>\n",
       "      <th>state</th>\n",
       "      <th>country</th>\n",
       "      <th>property_valuation</th>\n",
       "      <th>Unnamed: 16</th>\n",
       "      <th>Unnamed: 17</th>\n",
       "      <th>Unnamed: 18</th>\n",
       "      <th>Unnamed: 19</th>\n",
       "      <th>Unnamed: 20</th>\n",
       "      <th>Rank</th>\n",
       "      <th>Value</th>\n",
       "    </tr>\n",
       "  </thead>\n",
       "  <tbody>\n",
       "    <tr>\n",
       "      <th>0</th>\n",
       "      <td>Chickie</td>\n",
       "      <td>Brister</td>\n",
       "      <td>Male</td>\n",
       "      <td>86</td>\n",
       "      <td>1957-07-12</td>\n",
       "      <td>General Manager</td>\n",
       "      <td>Manufacturing</td>\n",
       "      <td>Mass Customer</td>\n",
       "      <td>N</td>\n",
       "      <td>Yes</td>\n",
       "      <td>...</td>\n",
       "      <td>QLD</td>\n",
       "      <td>Australia</td>\n",
       "      <td>6</td>\n",
       "      <td>0.56</td>\n",
       "      <td>0.7000</td>\n",
       "      <td>0.8750</td>\n",
       "      <td>0.743750</td>\n",
       "      <td>1</td>\n",
       "      <td>1</td>\n",
       "      <td>1.718750</td>\n",
       "    </tr>\n",
       "    <tr>\n",
       "      <th>1</th>\n",
       "      <td>Morly</td>\n",
       "      <td>Genery</td>\n",
       "      <td>Male</td>\n",
       "      <td>69</td>\n",
       "      <td>1970-03-22</td>\n",
       "      <td>Structural Engineer</td>\n",
       "      <td>Property</td>\n",
       "      <td>Mass Customer</td>\n",
       "      <td>N</td>\n",
       "      <td>No</td>\n",
       "      <td>...</td>\n",
       "      <td>NSW</td>\n",
       "      <td>Australia</td>\n",
       "      <td>11</td>\n",
       "      <td>0.89</td>\n",
       "      <td>0.8900</td>\n",
       "      <td>1.1125</td>\n",
       "      <td>0.945625</td>\n",
       "      <td>1</td>\n",
       "      <td>1</td>\n",
       "      <td>1.718750</td>\n",
       "    </tr>\n",
       "    <tr>\n",
       "      <th>2</th>\n",
       "      <td>Ardelis</td>\n",
       "      <td>Forrester</td>\n",
       "      <td>Female</td>\n",
       "      <td>10</td>\n",
       "      <td>1974-08-28</td>\n",
       "      <td>Senior Cost Accountant</td>\n",
       "      <td>Financial Services</td>\n",
       "      <td>Affluent Customer</td>\n",
       "      <td>N</td>\n",
       "      <td>No</td>\n",
       "      <td>...</td>\n",
       "      <td>VIC</td>\n",
       "      <td>Australia</td>\n",
       "      <td>5</td>\n",
       "      <td>1.01</td>\n",
       "      <td>1.0100</td>\n",
       "      <td>1.0100</td>\n",
       "      <td>1.010000</td>\n",
       "      <td>1</td>\n",
       "      <td>1</td>\n",
       "      <td>1.718750</td>\n",
       "    </tr>\n",
       "    <tr>\n",
       "      <th>3</th>\n",
       "      <td>Lucine</td>\n",
       "      <td>Stutt</td>\n",
       "      <td>Female</td>\n",
       "      <td>64</td>\n",
       "      <td>1979-01-28</td>\n",
       "      <td>Account Representative III</td>\n",
       "      <td>Manufacturing</td>\n",
       "      <td>Affluent Customer</td>\n",
       "      <td>N</td>\n",
       "      <td>Yes</td>\n",
       "      <td>...</td>\n",
       "      <td>QLD</td>\n",
       "      <td>Australia</td>\n",
       "      <td>1</td>\n",
       "      <td>0.87</td>\n",
       "      <td>1.0875</td>\n",
       "      <td>1.0875</td>\n",
       "      <td>1.087500</td>\n",
       "      <td>4</td>\n",
       "      <td>4</td>\n",
       "      <td>1.703125</td>\n",
       "    </tr>\n",
       "    <tr>\n",
       "      <th>4</th>\n",
       "      <td>Melinda</td>\n",
       "      <td>Hadlee</td>\n",
       "      <td>Female</td>\n",
       "      <td>34</td>\n",
       "      <td>1965-09-21</td>\n",
       "      <td>Financial Analyst</td>\n",
       "      <td>Financial Services</td>\n",
       "      <td>Affluent Customer</td>\n",
       "      <td>N</td>\n",
       "      <td>No</td>\n",
       "      <td>...</td>\n",
       "      <td>NSW</td>\n",
       "      <td>Australia</td>\n",
       "      <td>9</td>\n",
       "      <td>0.52</td>\n",
       "      <td>0.5200</td>\n",
       "      <td>0.6500</td>\n",
       "      <td>0.650000</td>\n",
       "      <td>4</td>\n",
       "      <td>4</td>\n",
       "      <td>1.703125</td>\n",
       "    </tr>\n",
       "  </tbody>\n",
       "</table>\n",
       "<p>5 rows × 23 columns</p>\n",
       "</div>"
      ],
      "text/plain": [
       "  first_name  last_name  gender  past_3_years_bike_related_purchases  \\\n",
       "0    Chickie    Brister    Male                                   86   \n",
       "1      Morly     Genery    Male                                   69   \n",
       "2    Ardelis  Forrester  Female                                   10   \n",
       "3     Lucine      Stutt  Female                                   64   \n",
       "4    Melinda     Hadlee  Female                                   34   \n",
       "\n",
       "         DOB                   job_title job_industry_category  \\\n",
       "0 1957-07-12             General Manager         Manufacturing   \n",
       "1 1970-03-22         Structural Engineer              Property   \n",
       "2 1974-08-28      Senior Cost Accountant    Financial Services   \n",
       "3 1979-01-28  Account Representative III         Manufacturing   \n",
       "4 1965-09-21           Financial Analyst    Financial Services   \n",
       "\n",
       "      wealth_segment deceased_indicator owns_car  ...  state    country  \\\n",
       "0      Mass Customer                  N      Yes  ...    QLD  Australia   \n",
       "1      Mass Customer                  N       No  ...    NSW  Australia   \n",
       "2  Affluent Customer                  N       No  ...    VIC  Australia   \n",
       "3  Affluent Customer                  N      Yes  ...    QLD  Australia   \n",
       "4  Affluent Customer                  N       No  ...    NSW  Australia   \n",
       "\n",
       "   property_valuation Unnamed: 16 Unnamed: 17  Unnamed: 18  Unnamed: 19  \\\n",
       "0                   6        0.56      0.7000       0.8750     0.743750   \n",
       "1                  11        0.89      0.8900       1.1125     0.945625   \n",
       "2                   5        1.01      1.0100       1.0100     1.010000   \n",
       "3                   1        0.87      1.0875       1.0875     1.087500   \n",
       "4                   9        0.52      0.5200       0.6500     0.650000   \n",
       "\n",
       "   Unnamed: 20  Rank     Value  \n",
       "0            1     1  1.718750  \n",
       "1            1     1  1.718750  \n",
       "2            1     1  1.718750  \n",
       "3            4     4  1.703125  \n",
       "4            4     4  1.703125  \n",
       "\n",
       "[5 rows x 23 columns]"
      ]
     },
     "execution_count": 19,
     "metadata": {},
     "output_type": "execute_result"
    }
   ],
   "source": [
    "new_customer_list.head()"
   ]
  },
  {
   "cell_type": "code",
   "execution_count": 20,
   "metadata": {},
   "outputs": [
    {
     "name": "stdout",
     "output_type": "stream",
     "text": [
      "<class 'pandas.core.frame.DataFrame'>\n",
      "RangeIndex: 1000 entries, 0 to 999\n",
      "Data columns (total 23 columns):\n",
      " #   Column                               Non-Null Count  Dtype         \n",
      "---  ------                               --------------  -----         \n",
      " 0   first_name                           1000 non-null   object        \n",
      " 1   last_name                            971 non-null    object        \n",
      " 2   gender                               1000 non-null   object        \n",
      " 3   past_3_years_bike_related_purchases  1000 non-null   int64         \n",
      " 4   DOB                                  983 non-null    datetime64[ns]\n",
      " 5   job_title                            894 non-null    object        \n",
      " 6   job_industry_category                835 non-null    object        \n",
      " 7   wealth_segment                       1000 non-null   object        \n",
      " 8   deceased_indicator                   1000 non-null   object        \n",
      " 9   owns_car                             1000 non-null   object        \n",
      " 10  tenure                               1000 non-null   int64         \n",
      " 11  address                              1000 non-null   object        \n",
      " 12  postcode                             1000 non-null   int64         \n",
      " 13  state                                1000 non-null   object        \n",
      " 14  country                              1000 non-null   object        \n",
      " 15  property_valuation                   1000 non-null   int64         \n",
      " 16  Unnamed: 16                          1000 non-null   float64       \n",
      " 17  Unnamed: 17                          1000 non-null   float64       \n",
      " 18  Unnamed: 18                          1000 non-null   float64       \n",
      " 19  Unnamed: 19                          1000 non-null   float64       \n",
      " 20  Unnamed: 20                          1000 non-null   int64         \n",
      " 21  Rank                                 1000 non-null   int64         \n",
      " 22  Value                                1000 non-null   float64       \n",
      "dtypes: datetime64[ns](1), float64(5), int64(6), object(11)\n",
      "memory usage: 179.8+ KB\n"
     ]
    }
   ],
   "source": [
    "new_customer_list.info()"
   ]
  },
  {
   "cell_type": "markdown",
   "metadata": {},
   "source": [
    "There are some unnamed columns that without the clients input, we do not know what they signify. They will be dropped for now"
   ]
  },
  {
   "cell_type": "code",
   "execution_count": 21,
   "metadata": {},
   "outputs": [],
   "source": [
    "# drop the unnamed columns\n",
    "new_customer_list.drop(['Unnamed: 16', 'Unnamed: 17', 'Unnamed: 18',\n",
    "       'Unnamed: 19', 'Unnamed: 20'], axis=1, inplace=True)"
   ]
  },
  {
   "cell_type": "code",
   "execution_count": 22,
   "metadata": {},
   "outputs": [
    {
     "data": {
      "text/plain": [
       "first_name                               0\n",
       "last_name                               29\n",
       "gender                                   0\n",
       "past_3_years_bike_related_purchases      0\n",
       "DOB                                     17\n",
       "job_title                              106\n",
       "job_industry_category                  165\n",
       "wealth_segment                           0\n",
       "deceased_indicator                       0\n",
       "owns_car                                 0\n",
       "tenure                                   0\n",
       "address                                  0\n",
       "postcode                                 0\n",
       "state                                    0\n",
       "country                                  0\n",
       "property_valuation                       0\n",
       "Rank                                     0\n",
       "Value                                    0\n",
       "dtype: int64"
      ]
     },
     "execution_count": 22,
     "metadata": {},
     "output_type": "execute_result"
    }
   ],
   "source": [
    "# check missing values\n",
    "new_customer_list.isna().sum()"
   ]
  },
  {
   "cell_type": "markdown",
   "metadata": {},
   "source": [
    "The following columns contain missing values:\n",
    "- `last_name` : 29\n",
    "- `DOB` : 17\n",
    "- `job_title` : 106\n",
    "- `job_industry_category` : 165"
   ]
  },
  {
   "cell_type": "code",
   "execution_count": 23,
   "metadata": {},
   "outputs": [
    {
     "name": "stdout",
     "output_type": "stream",
     "text": [
      "There is 2.90 percent of missing values in last_name\n",
      "There is 1.70 percent of missing values in DOB\n",
      "There is 10.60 percent of missing values in job_title\n",
      "There is 16.50 percent of missing values in job_industry_category\n"
     ]
    }
   ],
   "source": [
    "miss_percent(new_customer_list, 'last_name')\n",
    "miss_percent(new_customer_list, 'DOB')\n",
    "miss_percent(new_customer_list, 'job_title')\n",
    "miss_percent(new_customer_list, 'job_industry_category')"
   ]
  },
  {
   "cell_type": "markdown",
   "metadata": {},
   "source": [
    "From the percentage seen, appropriate techniques will be used according to the analysis needed."
   ]
  },
  {
   "cell_type": "code",
   "execution_count": 24,
   "metadata": {},
   "outputs": [
    {
     "data": {
      "text/plain": [
       "0"
      ]
     },
     "execution_count": 24,
     "metadata": {},
     "output_type": "execute_result"
    }
   ],
   "source": [
    "# check duplicates\n",
    "new_customer_list.duplicated().sum()"
   ]
  },
  {
   "cell_type": "markdown",
   "metadata": {},
   "source": [
    "There are no duplicated entries"
   ]
  },
  {
   "cell_type": "markdown",
   "metadata": {},
   "source": [
    "### Exploring columns"
   ]
  },
  {
   "cell_type": "code",
   "execution_count": 25,
   "metadata": {},
   "outputs": [],
   "source": [
    "columns1 = list(new_customer_list.columns)"
   ]
  },
  {
   "cell_type": "code",
   "execution_count": 26,
   "metadata": {
    "scrolled": false
   },
   "outputs": [
    {
     "name": "stdout",
     "output_type": "stream",
     "text": [
      "Value counts for first_name:\n",
      "Mandie      3\n",
      "Dorian      3\n",
      "Rozamond    3\n",
      "Nicol       2\n",
      "Art         2\n",
      "           ..\n",
      "Edin        1\n",
      "Clevey      1\n",
      "Cordie      1\n",
      "Clari       1\n",
      "Kylynn      1\n",
      "Name: first_name, Length: 940, dtype: int64\n",
      "\n",
      "\n",
      "Value counts for last_name:\n",
      "Eade             2\n",
      "Shoesmith        2\n",
      "Crellim          2\n",
      "Hallt            2\n",
      "Van den Velde    2\n",
      "                ..\n",
      "Howerd           1\n",
      "Duchant          1\n",
      "Dwelley          1\n",
      "McOwan           1\n",
      "Rochford         1\n",
      "Name: last_name, Length: 961, dtype: int64\n",
      "\n",
      "\n",
      "Value counts for gender:\n",
      "Female    513\n",
      "Male      470\n",
      "U          17\n",
      "Name: gender, dtype: int64\n",
      "\n",
      "\n",
      "Value counts for past_3_years_bike_related_purchases:\n",
      "60    20\n",
      "59    18\n",
      "70    17\n",
      "42    17\n",
      "37    16\n",
      "      ..\n",
      "19     5\n",
      "9      5\n",
      "92     5\n",
      "85     4\n",
      "20     3\n",
      "Name: past_3_years_bike_related_purchases, Length: 100, dtype: int64\n",
      "\n",
      "\n",
      "Value counts for DOB:\n",
      "1961-07-31    2\n",
      "1994-04-15    2\n",
      "1987-01-15    2\n",
      "1951-11-28    2\n",
      "1979-07-28    2\n",
      "             ..\n",
      "1947-04-21    1\n",
      "1995-10-10    1\n",
      "1964-08-23    1\n",
      "1962-05-12    1\n",
      "1958-04-21    1\n",
      "Name: DOB, Length: 958, dtype: int64\n",
      "\n",
      "\n",
      "Value counts for job_title:\n",
      "Associate Professor             15\n",
      "Environmental Tech              14\n",
      "Software Consultant             14\n",
      "Chief Design Engineer           13\n",
      "Senior Sales Associate          12\n",
      "                                ..\n",
      "Human Resources Assistant IV     1\n",
      "Accountant II                    1\n",
      "Systems Administrator IV         1\n",
      "Software Test Engineer III       1\n",
      "Web Developer I                  1\n",
      "Name: job_title, Length: 184, dtype: int64\n",
      "\n",
      "\n",
      "Value counts for job_industry_category:\n",
      "Financial Services    203\n",
      "Manufacturing         199\n",
      "Health                152\n",
      "Retail                 78\n",
      "Property               64\n",
      "IT                     51\n",
      "Entertainment          37\n",
      "Argiculture            26\n",
      "Telecommunications     25\n",
      "Name: job_industry_category, dtype: int64\n",
      "\n",
      "\n",
      "Value counts for wealth_segment:\n",
      "Mass Customer        508\n",
      "High Net Worth       251\n",
      "Affluent Customer    241\n",
      "Name: wealth_segment, dtype: int64\n",
      "\n",
      "\n",
      "Value counts for deceased_indicator:\n",
      "N    1000\n",
      "Name: deceased_indicator, dtype: int64\n",
      "\n",
      "\n",
      "Value counts for owns_car:\n",
      "No     507\n",
      "Yes    493\n",
      "Name: owns_car, dtype: int64\n",
      "\n",
      "\n",
      "Value counts for tenure:\n",
      "9     79\n",
      "13    74\n",
      "11    68\n",
      "10    63\n",
      "12    61\n",
      "7     60\n",
      "5     60\n",
      "17    59\n",
      "15    58\n",
      "8     55\n",
      "14    54\n",
      "16    49\n",
      "6     45\n",
      "18    36\n",
      "4     36\n",
      "19    34\n",
      "3     26\n",
      "21    24\n",
      "20    22\n",
      "2     15\n",
      "22    12\n",
      "1      8\n",
      "0      2\n",
      "Name: tenure, dtype: int64\n",
      "\n",
      "\n",
      "Value counts for address:\n",
      "7 Sauthoff Park         1\n",
      "96515 Di Loreto Pass    1\n",
      "37 Rigney Park          1\n",
      "31 Schurz Parkway       1\n",
      "989 Graedel Terrace     1\n",
      "                       ..\n",
      "264 Valley Edge Pass    1\n",
      "077 Dennis Lane         1\n",
      "356 Carberry Avenue     1\n",
      "608 Dapin Court         1\n",
      "2 Harper Junction       1\n",
      "Name: address, Length: 1000, dtype: int64\n",
      "\n",
      "\n",
      "Value counts for postcode:\n",
      "2232    9\n",
      "2145    9\n",
      "2168    7\n",
      "2750    7\n",
      "3029    7\n",
      "       ..\n",
      "4408    1\n",
      "2151    1\n",
      "4159    1\n",
      "3121    1\n",
      "3051    1\n",
      "Name: postcode, Length: 522, dtype: int64\n",
      "\n",
      "\n",
      "Value counts for state:\n",
      "NSW    506\n",
      "VIC    266\n",
      "QLD    228\n",
      "Name: state, dtype: int64\n",
      "\n",
      "\n",
      "Value counts for country:\n",
      "Australia    1000\n",
      "Name: country, dtype: int64\n",
      "\n",
      "\n",
      "Value counts for property_valuation:\n",
      "9     173\n",
      "8     162\n",
      "7     138\n",
      "10    116\n",
      "6      70\n",
      "11     62\n",
      "5      57\n",
      "4      53\n",
      "3      51\n",
      "12     46\n",
      "2      42\n",
      "1      30\n",
      "Name: property_valuation, dtype: int64\n",
      "\n",
      "\n",
      "Value counts for Rank:\n",
      "760     13\n",
      "259     12\n",
      "455      9\n",
      "904      9\n",
      "386      9\n",
      "        ..\n",
      "785      1\n",
      "773      1\n",
      "754      1\n",
      "355      1\n",
      "1000     1\n",
      "Name: Rank, Length: 324, dtype: int64\n",
      "\n",
      "\n",
      "Value counts for Value:\n",
      "0.637500    13\n",
      "1.062500    12\n",
      "1.237500     9\n",
      "0.892500     9\n",
      "0.945625     9\n",
      "            ..\n",
      "0.630000     1\n",
      "0.340000     1\n",
      "0.875500     1\n",
      "0.867000     1\n",
      "1.142187     1\n",
      "Name: Value, Length: 324, dtype: int64\n",
      "\n",
      "\n"
     ]
    }
   ],
   "source": [
    "count_values(new_customer_list, columns1)"
   ]
  },
  {
   "cell_type": "markdown",
   "metadata": {},
   "source": [
    "`gender` has a value `U` that the client needs to explain what it means."
   ]
  },
  {
   "cell_type": "markdown",
   "metadata": {},
   "source": [
    "## Customer Demographic"
   ]
  },
  {
   "cell_type": "code",
   "execution_count": 27,
   "metadata": {},
   "outputs": [],
   "source": [
    "customer_demographic = create_df(file, 'CustomerDemographic')"
   ]
  },
  {
   "cell_type": "code",
   "execution_count": 28,
   "metadata": {},
   "outputs": [
    {
     "data": {
      "text/html": [
       "<div>\n",
       "<style scoped>\n",
       "    .dataframe tbody tr th:only-of-type {\n",
       "        vertical-align: middle;\n",
       "    }\n",
       "\n",
       "    .dataframe tbody tr th {\n",
       "        vertical-align: top;\n",
       "    }\n",
       "\n",
       "    .dataframe thead th {\n",
       "        text-align: right;\n",
       "    }\n",
       "</style>\n",
       "<table border=\"1\" class=\"dataframe\">\n",
       "  <thead>\n",
       "    <tr style=\"text-align: right;\">\n",
       "      <th></th>\n",
       "      <th>customer_id</th>\n",
       "      <th>first_name</th>\n",
       "      <th>last_name</th>\n",
       "      <th>gender</th>\n",
       "      <th>past_3_years_bike_related_purchases</th>\n",
       "      <th>DOB</th>\n",
       "      <th>job_title</th>\n",
       "      <th>job_industry_category</th>\n",
       "      <th>wealth_segment</th>\n",
       "      <th>deceased_indicator</th>\n",
       "      <th>default</th>\n",
       "      <th>owns_car</th>\n",
       "      <th>tenure</th>\n",
       "    </tr>\n",
       "  </thead>\n",
       "  <tbody>\n",
       "    <tr>\n",
       "      <th>0</th>\n",
       "      <td>1</td>\n",
       "      <td>Laraine</td>\n",
       "      <td>Medendorp</td>\n",
       "      <td>F</td>\n",
       "      <td>93</td>\n",
       "      <td>1953-10-12</td>\n",
       "      <td>Executive Secretary</td>\n",
       "      <td>Health</td>\n",
       "      <td>Mass Customer</td>\n",
       "      <td>N</td>\n",
       "      <td>\"'</td>\n",
       "      <td>Yes</td>\n",
       "      <td>11.0</td>\n",
       "    </tr>\n",
       "    <tr>\n",
       "      <th>1</th>\n",
       "      <td>2</td>\n",
       "      <td>Eli</td>\n",
       "      <td>Bockman</td>\n",
       "      <td>Male</td>\n",
       "      <td>81</td>\n",
       "      <td>1980-12-16</td>\n",
       "      <td>Administrative Officer</td>\n",
       "      <td>Financial Services</td>\n",
       "      <td>Mass Customer</td>\n",
       "      <td>N</td>\n",
       "      <td>&lt;script&gt;alert('hi')&lt;/script&gt;</td>\n",
       "      <td>Yes</td>\n",
       "      <td>16.0</td>\n",
       "    </tr>\n",
       "    <tr>\n",
       "      <th>2</th>\n",
       "      <td>3</td>\n",
       "      <td>Arlin</td>\n",
       "      <td>Dearle</td>\n",
       "      <td>Male</td>\n",
       "      <td>61</td>\n",
       "      <td>1954-01-20</td>\n",
       "      <td>Recruiting Manager</td>\n",
       "      <td>Property</td>\n",
       "      <td>Mass Customer</td>\n",
       "      <td>N</td>\n",
       "      <td>2018-02-01 00:00:00</td>\n",
       "      <td>Yes</td>\n",
       "      <td>15.0</td>\n",
       "    </tr>\n",
       "    <tr>\n",
       "      <th>3</th>\n",
       "      <td>4</td>\n",
       "      <td>Talbot</td>\n",
       "      <td>NaN</td>\n",
       "      <td>Male</td>\n",
       "      <td>33</td>\n",
       "      <td>1961-10-03</td>\n",
       "      <td>NaN</td>\n",
       "      <td>IT</td>\n",
       "      <td>Mass Customer</td>\n",
       "      <td>N</td>\n",
       "      <td>() { _; } &gt;_[$($())] { touch /tmp/blns.shellsh...</td>\n",
       "      <td>No</td>\n",
       "      <td>7.0</td>\n",
       "    </tr>\n",
       "    <tr>\n",
       "      <th>4</th>\n",
       "      <td>5</td>\n",
       "      <td>Sheila-kathryn</td>\n",
       "      <td>Calton</td>\n",
       "      <td>Female</td>\n",
       "      <td>56</td>\n",
       "      <td>1977-05-13</td>\n",
       "      <td>Senior Editor</td>\n",
       "      <td>NaN</td>\n",
       "      <td>Affluent Customer</td>\n",
       "      <td>N</td>\n",
       "      <td>NIL</td>\n",
       "      <td>Yes</td>\n",
       "      <td>8.0</td>\n",
       "    </tr>\n",
       "  </tbody>\n",
       "</table>\n",
       "</div>"
      ],
      "text/plain": [
       "   customer_id      first_name  last_name  gender  \\\n",
       "0            1         Laraine  Medendorp       F   \n",
       "1            2             Eli    Bockman    Male   \n",
       "2            3           Arlin     Dearle    Male   \n",
       "3            4          Talbot        NaN    Male   \n",
       "4            5  Sheila-kathryn     Calton  Female   \n",
       "\n",
       "   past_3_years_bike_related_purchases        DOB               job_title  \\\n",
       "0                                   93 1953-10-12     Executive Secretary   \n",
       "1                                   81 1980-12-16  Administrative Officer   \n",
       "2                                   61 1954-01-20      Recruiting Manager   \n",
       "3                                   33 1961-10-03                     NaN   \n",
       "4                                   56 1977-05-13           Senior Editor   \n",
       "\n",
       "  job_industry_category     wealth_segment deceased_indicator  \\\n",
       "0                Health      Mass Customer                  N   \n",
       "1    Financial Services      Mass Customer                  N   \n",
       "2              Property      Mass Customer                  N   \n",
       "3                    IT      Mass Customer                  N   \n",
       "4                   NaN  Affluent Customer                  N   \n",
       "\n",
       "                                             default owns_car  tenure  \n",
       "0                                                 \"'      Yes    11.0  \n",
       "1                       <script>alert('hi')</script>      Yes    16.0  \n",
       "2                                2018-02-01 00:00:00      Yes    15.0  \n",
       "3  () { _; } >_[$($())] { touch /tmp/blns.shellsh...       No     7.0  \n",
       "4                                                NIL      Yes     8.0  "
      ]
     },
     "execution_count": 28,
     "metadata": {},
     "output_type": "execute_result"
    }
   ],
   "source": [
    "customer_demographic.head()"
   ]
  },
  {
   "cell_type": "code",
   "execution_count": 29,
   "metadata": {},
   "outputs": [
    {
     "name": "stdout",
     "output_type": "stream",
     "text": [
      "<class 'pandas.core.frame.DataFrame'>\n",
      "RangeIndex: 4000 entries, 0 to 3999\n",
      "Data columns (total 13 columns):\n",
      " #   Column                               Non-Null Count  Dtype         \n",
      "---  ------                               --------------  -----         \n",
      " 0   customer_id                          4000 non-null   int64         \n",
      " 1   first_name                           4000 non-null   object        \n",
      " 2   last_name                            3875 non-null   object        \n",
      " 3   gender                               4000 non-null   object        \n",
      " 4   past_3_years_bike_related_purchases  4000 non-null   int64         \n",
      " 5   DOB                                  3913 non-null   datetime64[ns]\n",
      " 6   job_title                            3494 non-null   object        \n",
      " 7   job_industry_category                3344 non-null   object        \n",
      " 8   wealth_segment                       4000 non-null   object        \n",
      " 9   deceased_indicator                   4000 non-null   object        \n",
      " 10  default                              3698 non-null   object        \n",
      " 11  owns_car                             4000 non-null   object        \n",
      " 12  tenure                               3913 non-null   float64       \n",
      "dtypes: datetime64[ns](1), float64(1), int64(2), object(9)\n",
      "memory usage: 406.4+ KB\n"
     ]
    }
   ],
   "source": [
    "customer_demographic.info()"
   ]
  },
  {
   "cell_type": "code",
   "execution_count": 30,
   "metadata": {},
   "outputs": [
    {
     "data": {
      "text/plain": [
       "customer_id                              0\n",
       "first_name                               0\n",
       "last_name                              125\n",
       "gender                                   0\n",
       "past_3_years_bike_related_purchases      0\n",
       "DOB                                     87\n",
       "job_title                              506\n",
       "job_industry_category                  656\n",
       "wealth_segment                           0\n",
       "deceased_indicator                       0\n",
       "default                                302\n",
       "owns_car                                 0\n",
       "tenure                                  87\n",
       "dtype: int64"
      ]
     },
     "execution_count": 30,
     "metadata": {},
     "output_type": "execute_result"
    }
   ],
   "source": [
    "# check null values\n",
    "customer_demographic.isna().sum()"
   ]
  },
  {
   "cell_type": "markdown",
   "metadata": {},
   "source": [
    "The following columns have null values:\n",
    "- `last_name` : 125\n",
    "- `DOB` : 87\n",
    "- `job_title` : 506\n",
    "- `job_industry_category` : 656\n",
    "- `default` : 302\n",
    "- `tenure` : 87"
   ]
  },
  {
   "cell_type": "code",
   "execution_count": 31,
   "metadata": {},
   "outputs": [
    {
     "name": "stdout",
     "output_type": "stream",
     "text": [
      "There is 3.12 percent of missing values in last_name\n",
      "There is 2.17 percent of missing values in DOB\n",
      "There is 12.65 percent of missing values in job_title\n",
      "There is 16.40 percent of missing values in job_industry_category\n",
      "There is 7.55 percent of missing values in default\n",
      "There is 2.17 percent of missing values in tenure\n"
     ]
    }
   ],
   "source": [
    "miss_percent(customer_demographic, 'last_name')\n",
    "miss_percent(customer_demographic, 'DOB')\n",
    "miss_percent(customer_demographic, 'job_title')\n",
    "miss_percent(customer_demographic, 'job_industry_category')\n",
    "miss_percent(customer_demographic, 'default')\n",
    "miss_percent(customer_demographic, 'tenure')"
   ]
  },
  {
   "cell_type": "markdown",
   "metadata": {},
   "source": [
    "The mssing values will be dealt according to the analysis needed due to their sizes."
   ]
  },
  {
   "cell_type": "code",
   "execution_count": 32,
   "metadata": {},
   "outputs": [
    {
     "data": {
      "text/plain": [
       "0"
      ]
     },
     "execution_count": 32,
     "metadata": {},
     "output_type": "execute_result"
    }
   ],
   "source": [
    "# check duplicates\n",
    "customer_demographic.duplicated().sum()"
   ]
  },
  {
   "cell_type": "markdown",
   "metadata": {},
   "source": [
    "There are no duplicates"
   ]
  },
  {
   "cell_type": "markdown",
   "metadata": {},
   "source": [
    "### Exploring columns"
   ]
  },
  {
   "cell_type": "code",
   "execution_count": 33,
   "metadata": {},
   "outputs": [],
   "source": [
    "columns2 = list(customer_demographic.columns)"
   ]
  },
  {
   "cell_type": "code",
   "execution_count": 34,
   "metadata": {
    "scrolled": false
   },
   "outputs": [
    {
     "name": "stdout",
     "output_type": "stream",
     "text": [
      "Value counts for customer_id:\n",
      "2047    1\n",
      "657     1\n",
      "2732    1\n",
      "681     1\n",
      "2728    1\n",
      "       ..\n",
      "3371    1\n",
      "1322    1\n",
      "3367    1\n",
      "1318    1\n",
      "2049    1\n",
      "Name: customer_id, Length: 4000, dtype: int64\n",
      "\n",
      "\n",
      "Value counts for first_name:\n",
      "Timmie      5\n",
      "Max         5\n",
      "Tobe        5\n",
      "Urbanus     4\n",
      "Pail        4\n",
      "           ..\n",
      "Purcell     1\n",
      "Cora        1\n",
      "Nichols     1\n",
      "Papageno    1\n",
      "Jaquelin    1\n",
      "Name: first_name, Length: 3139, dtype: int64\n",
      "\n",
      "\n",
      "Value counts for last_name:\n",
      "Ramsdell     3\n",
      "Pristnor     3\n",
      "Vidyapin     2\n",
      "Scatcher     2\n",
      "Dyde         2\n",
      "            ..\n",
      "McVane       1\n",
      "Wheatland    1\n",
      "Perez        1\n",
      "McCarlie     1\n",
      "Drache       1\n",
      "Name: last_name, Length: 3725, dtype: int64\n",
      "\n",
      "\n",
      "Value counts for gender:\n",
      "Female    2037\n",
      "Male      1872\n",
      "U           88\n",
      "Femal        1\n",
      "F            1\n",
      "M            1\n",
      "Name: gender, dtype: int64\n",
      "\n",
      "\n",
      "Value counts for past_3_years_bike_related_purchases:\n",
      "16    56\n",
      "19    56\n",
      "20    54\n",
      "67    54\n",
      "2     50\n",
      "      ..\n",
      "8     28\n",
      "86    27\n",
      "95    27\n",
      "85    27\n",
      "92    24\n",
      "Name: past_3_years_bike_related_purchases, Length: 100, dtype: int64\n",
      "\n",
      "\n",
      "Value counts for DOB:\n",
      "1978-01-30    7\n",
      "1977-05-13    4\n",
      "1976-07-16    4\n",
      "1978-08-19    4\n",
      "1976-09-25    4\n",
      "             ..\n",
      "1974-06-16    1\n",
      "1969-11-21    1\n",
      "1961-11-24    1\n",
      "1995-05-03    1\n",
      "1972-04-14    1\n",
      "Name: DOB, Length: 3448, dtype: int64\n",
      "\n",
      "\n",
      "Value counts for job_title:\n",
      "Business Systems Development Analyst    45\n",
      "Social Worker                           44\n",
      "Tax Accountant                          44\n",
      "Internal Auditor                        42\n",
      "Legal Assistant                         41\n",
      "                                        ..\n",
      "Programmer Analyst IV                    4\n",
      "Research Assistant III                   3\n",
      "Health Coach III                         3\n",
      "Health Coach I                           3\n",
      "Developer I                              1\n",
      "Name: job_title, Length: 195, dtype: int64\n",
      "\n",
      "\n",
      "Value counts for job_industry_category:\n",
      "Manufacturing         799\n",
      "Financial Services    774\n",
      "Health                602\n",
      "Retail                358\n",
      "Property              267\n",
      "IT                    223\n",
      "Entertainment         136\n",
      "Argiculture           113\n",
      "Telecommunications     72\n",
      "Name: job_industry_category, dtype: int64\n",
      "\n",
      "\n",
      "Value counts for wealth_segment:\n",
      "Mass Customer        2000\n",
      "High Net Worth       1021\n",
      "Affluent Customer     979\n",
      "Name: wealth_segment, dtype: int64\n",
      "\n",
      "\n",
      "Value counts for deceased_indicator:\n",
      "N    3998\n",
      "Y       2\n",
      "Name: deceased_indicator, dtype: int64\n",
      "\n",
      "\n",
      "Value counts for default:\n",
      "100                                       113\n",
      "1                                         112\n",
      "-1                                        111\n",
      "-100                                       99\n",
      "Ù¡Ù¢Ù£                                     53\n",
      "                                         ... \n",
      "ç¤¾æç§å­¸é¢èªå­¸ç ç©¶æ                     31\n",
      "/dev/null; touch /tmp/blns.fail ; echo     30\n",
      "âªâªtestâª                                 29\n",
      "ì¸ëë°í ë¥´                                 27\n",
      ",ãã»:*:ã»ãâ( â» Ï â» )ãã»:*:ã»ãâ           25\n",
      "Name: default, Length: 90, dtype: int64\n",
      "\n",
      "\n",
      "Value counts for owns_car:\n",
      "Yes    2024\n",
      "No     1976\n",
      "Name: owns_car, dtype: int64\n",
      "\n",
      "\n",
      "Value counts for tenure:\n",
      "7.0     235\n",
      "5.0     228\n",
      "11.0    221\n",
      "10.0    218\n",
      "16.0    215\n",
      "8.0     211\n",
      "18.0    208\n",
      "12.0    202\n",
      "9.0     200\n",
      "14.0    200\n",
      "6.0     192\n",
      "13.0    191\n",
      "4.0     191\n",
      "17.0    182\n",
      "15.0    179\n",
      "1.0     166\n",
      "3.0     160\n",
      "19.0    159\n",
      "2.0     150\n",
      "20.0     96\n",
      "22.0     55\n",
      "21.0     54\n",
      "Name: tenure, dtype: int64\n",
      "\n",
      "\n"
     ]
    }
   ],
   "source": [
    "count_values(customer_demographic, columns2)"
   ]
  },
  {
   "cell_type": "markdown",
   "metadata": {},
   "source": [
    "The `default` column has values that are not understandable. Without any input about it from the client, it will be dropped.<br>\n",
    "The `gender` column has some values that can be combined to `female` or `male`. However there is still one, `U`, which the client will need to explain what it means."
   ]
  },
  {
   "cell_type": "code",
   "execution_count": 35,
   "metadata": {},
   "outputs": [],
   "source": [
    "# function to replace a value with another\n",
    "def substitute(df,col,original_value, sub_value):\n",
    "    return df[col].replace(original_value, sub_value, inplace=True)"
   ]
  },
  {
   "cell_type": "code",
   "execution_count": 36,
   "metadata": {},
   "outputs": [
    {
     "data": {
      "text/plain": [
       "Female    2037\n",
       "Male      1872\n",
       "U           88\n",
       "Femal        1\n",
       "F            1\n",
       "M            1\n",
       "Name: gender, dtype: int64"
      ]
     },
     "execution_count": 36,
     "metadata": {},
     "output_type": "execute_result"
    }
   ],
   "source": [
    "customer_demographic.gender.value_counts()"
   ]
  },
  {
   "cell_type": "code",
   "execution_count": 37,
   "metadata": {},
   "outputs": [],
   "source": [
    "# changing values in gender to either male or female\n",
    "substitute(customer_demographic, 'gender', ['Femal', 'F', 'M'], ['Female', 'Female', 'Male'])"
   ]
  },
  {
   "cell_type": "code",
   "execution_count": 38,
   "metadata": {},
   "outputs": [
    {
     "data": {
      "text/plain": [
       "Female    2039\n",
       "Male      1873\n",
       "U           88\n",
       "Name: gender, dtype: int64"
      ]
     },
     "execution_count": 38,
     "metadata": {},
     "output_type": "execute_result"
    }
   ],
   "source": [
    "customer_demographic.gender.value_counts()"
   ]
  },
  {
   "cell_type": "code",
   "execution_count": 39,
   "metadata": {},
   "outputs": [],
   "source": [
    "#W dropping the default column\n",
    "customer_demographic.drop(columns='default', inplace=True)"
   ]
  },
  {
   "cell_type": "code",
   "execution_count": 40,
   "metadata": {},
   "outputs": [
    {
     "data": {
      "text/plain": [
       "Index(['customer_id', 'first_name', 'last_name', 'gender',\n",
       "       'past_3_years_bike_related_purchases', 'DOB', 'job_title',\n",
       "       'job_industry_category', 'wealth_segment', 'deceased_indicator',\n",
       "       'owns_car', 'tenure'],\n",
       "      dtype='object')"
      ]
     },
     "execution_count": 40,
     "metadata": {},
     "output_type": "execute_result"
    }
   ],
   "source": [
    "customer_demographic.columns"
   ]
  },
  {
   "cell_type": "markdown",
   "metadata": {},
   "source": [
    "## Customer Address"
   ]
  },
  {
   "cell_type": "code",
   "execution_count": 41,
   "metadata": {},
   "outputs": [],
   "source": [
    "customer_address = create_df(file, 'CustomerAddress')"
   ]
  },
  {
   "cell_type": "code",
   "execution_count": 42,
   "metadata": {},
   "outputs": [
    {
     "data": {
      "text/html": [
       "<div>\n",
       "<style scoped>\n",
       "    .dataframe tbody tr th:only-of-type {\n",
       "        vertical-align: middle;\n",
       "    }\n",
       "\n",
       "    .dataframe tbody tr th {\n",
       "        vertical-align: top;\n",
       "    }\n",
       "\n",
       "    .dataframe thead th {\n",
       "        text-align: right;\n",
       "    }\n",
       "</style>\n",
       "<table border=\"1\" class=\"dataframe\">\n",
       "  <thead>\n",
       "    <tr style=\"text-align: right;\">\n",
       "      <th></th>\n",
       "      <th>customer_id</th>\n",
       "      <th>address</th>\n",
       "      <th>postcode</th>\n",
       "      <th>state</th>\n",
       "      <th>country</th>\n",
       "      <th>property_valuation</th>\n",
       "    </tr>\n",
       "  </thead>\n",
       "  <tbody>\n",
       "    <tr>\n",
       "      <th>0</th>\n",
       "      <td>1</td>\n",
       "      <td>060 Morning Avenue</td>\n",
       "      <td>2016</td>\n",
       "      <td>New South Wales</td>\n",
       "      <td>Australia</td>\n",
       "      <td>10</td>\n",
       "    </tr>\n",
       "    <tr>\n",
       "      <th>1</th>\n",
       "      <td>2</td>\n",
       "      <td>6 Meadow Vale Court</td>\n",
       "      <td>2153</td>\n",
       "      <td>New South Wales</td>\n",
       "      <td>Australia</td>\n",
       "      <td>10</td>\n",
       "    </tr>\n",
       "    <tr>\n",
       "      <th>2</th>\n",
       "      <td>4</td>\n",
       "      <td>0 Holy Cross Court</td>\n",
       "      <td>4211</td>\n",
       "      <td>QLD</td>\n",
       "      <td>Australia</td>\n",
       "      <td>9</td>\n",
       "    </tr>\n",
       "    <tr>\n",
       "      <th>3</th>\n",
       "      <td>5</td>\n",
       "      <td>17979 Del Mar Point</td>\n",
       "      <td>2448</td>\n",
       "      <td>New South Wales</td>\n",
       "      <td>Australia</td>\n",
       "      <td>4</td>\n",
       "    </tr>\n",
       "    <tr>\n",
       "      <th>4</th>\n",
       "      <td>6</td>\n",
       "      <td>9 Oakridge Court</td>\n",
       "      <td>3216</td>\n",
       "      <td>VIC</td>\n",
       "      <td>Australia</td>\n",
       "      <td>9</td>\n",
       "    </tr>\n",
       "  </tbody>\n",
       "</table>\n",
       "</div>"
      ],
      "text/plain": [
       "   customer_id              address  postcode            state    country  \\\n",
       "0            1   060 Morning Avenue      2016  New South Wales  Australia   \n",
       "1            2  6 Meadow Vale Court      2153  New South Wales  Australia   \n",
       "2            4   0 Holy Cross Court      4211              QLD  Australia   \n",
       "3            5  17979 Del Mar Point      2448  New South Wales  Australia   \n",
       "4            6     9 Oakridge Court      3216              VIC  Australia   \n",
       "\n",
       "   property_valuation  \n",
       "0                  10  \n",
       "1                  10  \n",
       "2                   9  \n",
       "3                   4  \n",
       "4                   9  "
      ]
     },
     "execution_count": 42,
     "metadata": {},
     "output_type": "execute_result"
    }
   ],
   "source": [
    "customer_address.head()"
   ]
  },
  {
   "cell_type": "code",
   "execution_count": 43,
   "metadata": {},
   "outputs": [
    {
     "name": "stdout",
     "output_type": "stream",
     "text": [
      "<class 'pandas.core.frame.DataFrame'>\n",
      "RangeIndex: 3999 entries, 0 to 3998\n",
      "Data columns (total 6 columns):\n",
      " #   Column              Non-Null Count  Dtype \n",
      "---  ------              --------------  ----- \n",
      " 0   customer_id         3999 non-null   int64 \n",
      " 1   address             3999 non-null   object\n",
      " 2   postcode            3999 non-null   int64 \n",
      " 3   state               3999 non-null   object\n",
      " 4   country             3999 non-null   object\n",
      " 5   property_valuation  3999 non-null   int64 \n",
      "dtypes: int64(3), object(3)\n",
      "memory usage: 187.6+ KB\n"
     ]
    }
   ],
   "source": [
    "customer_address.info()"
   ]
  },
  {
   "cell_type": "code",
   "execution_count": 44,
   "metadata": {},
   "outputs": [
    {
     "data": {
      "text/plain": [
       "customer_id           0\n",
       "address               0\n",
       "postcode              0\n",
       "state                 0\n",
       "country               0\n",
       "property_valuation    0\n",
       "dtype: int64"
      ]
     },
     "execution_count": 44,
     "metadata": {},
     "output_type": "execute_result"
    }
   ],
   "source": [
    "#check null values\n",
    "customer_address.isna().sum()"
   ]
  },
  {
   "cell_type": "markdown",
   "metadata": {},
   "source": [
    "There are no missing values"
   ]
  },
  {
   "cell_type": "code",
   "execution_count": 45,
   "metadata": {},
   "outputs": [
    {
     "data": {
      "text/plain": [
       "0"
      ]
     },
     "execution_count": 45,
     "metadata": {},
     "output_type": "execute_result"
    }
   ],
   "source": [
    "# check duplicates\n",
    "customer_address.duplicated().sum()"
   ]
  },
  {
   "cell_type": "markdown",
   "metadata": {},
   "source": [
    "There are no duplicates"
   ]
  },
  {
   "cell_type": "markdown",
   "metadata": {},
   "source": [
    "### Exploring the columns"
   ]
  },
  {
   "cell_type": "code",
   "execution_count": 46,
   "metadata": {},
   "outputs": [],
   "source": [
    "columns3 = list(customer_address.columns)"
   ]
  },
  {
   "cell_type": "code",
   "execution_count": 47,
   "metadata": {},
   "outputs": [
    {
     "name": "stdout",
     "output_type": "stream",
     "text": [
      "Value counts for customer_id:\n",
      "2047    1\n",
      "653     1\n",
      "2728    1\n",
      "677     1\n",
      "2724    1\n",
      "       ..\n",
      "3371    1\n",
      "1322    1\n",
      "3367    1\n",
      "1318    1\n",
      "2049    1\n",
      "Name: customer_id, Length: 3999, dtype: int64\n",
      "\n",
      "\n",
      "Value counts for address:\n",
      "3 Mariners Cove Terrace    2\n",
      "64 Macpherson Junction     2\n",
      "3 Talisman Place           2\n",
      "3723 Bunker Hill Circle    1\n",
      "3 Golf Course Avenue       1\n",
      "                          ..\n",
      "33 Rockefeller Avenue      1\n",
      "71 Sundown Circle          1\n",
      "35386 Mockingbird Road     1\n",
      "3 Hayes Court              1\n",
      "86 Fairfield Alley         1\n",
      "Name: address, Length: 3996, dtype: int64\n",
      "\n",
      "\n",
      "Value counts for postcode:\n",
      "2170    31\n",
      "2155    30\n",
      "2145    30\n",
      "2153    29\n",
      "2770    26\n",
      "        ..\n",
      "4552     1\n",
      "4555     1\n",
      "2485     1\n",
      "3580     1\n",
      "4421     1\n",
      "Name: postcode, Length: 873, dtype: int64\n",
      "\n",
      "\n",
      "Value counts for state:\n",
      "NSW                2054\n",
      "VIC                 939\n",
      "QLD                 838\n",
      "New South Wales      86\n",
      "Victoria             82\n",
      "Name: state, dtype: int64\n",
      "\n",
      "\n",
      "Value counts for country:\n",
      "Australia    3999\n",
      "Name: country, dtype: int64\n",
      "\n",
      "\n",
      "Value counts for property_valuation:\n",
      "9     647\n",
      "8     646\n",
      "10    577\n",
      "7     493\n",
      "11    281\n",
      "6     238\n",
      "5     225\n",
      "4     214\n",
      "12    195\n",
      "3     186\n",
      "1     154\n",
      "2     143\n",
      "Name: property_valuation, dtype: int64\n",
      "\n",
      "\n"
     ]
    }
   ],
   "source": [
    "count_values(customer_address, columns3)"
   ]
  },
  {
   "cell_type": "markdown",
   "metadata": {},
   "source": [
    "The column `state` has some entries that can be substituted."
   ]
  },
  {
   "cell_type": "code",
   "execution_count": 48,
   "metadata": {},
   "outputs": [],
   "source": [
    "substitute(customer_address, 'state', ['New South Wales', 'Victoria'], ['NSW', 'VIC'])"
   ]
  },
  {
   "cell_type": "code",
   "execution_count": 49,
   "metadata": {},
   "outputs": [
    {
     "data": {
      "text/plain": [
       "NSW    2140\n",
       "VIC    1021\n",
       "QLD     838\n",
       "Name: state, dtype: int64"
      ]
     },
     "execution_count": 49,
     "metadata": {},
     "output_type": "execute_result"
    }
   ],
   "source": [
    "customer_address.state.value_counts()"
   ]
  },
  {
   "cell_type": "markdown",
   "metadata": {},
   "source": [
    "# Conclusions\n",
    "\n",
    "The datasets have various issues such as:\n",
    "- Missing values : This is evident in almost all the datasets.\n",
    "- Incorrect data type : There was a column with a data type that did not reflect the expected data type.\n",
    "- Different classifiers: What this means is that there were some columns that had values that were classified differently but seemed to mean the same thing. Example, gender had `Femal` which seems to mean `Female`.\n",
    "- Unknown values: Some columns had values that are not understandable without further explanation from the client.\n"
   ]
  },
  {
   "cell_type": "code",
   "execution_count": null,
   "metadata": {},
   "outputs": [],
   "source": []
  }
 ],
 "metadata": {
  "kernelspec": {
   "display_name": "Python (learn-env)",
   "language": "python",
   "name": "learn-env"
  },
  "language_info": {
   "codemirror_mode": {
    "name": "ipython",
    "version": 3
   },
   "file_extension": ".py",
   "mimetype": "text/x-python",
   "name": "python",
   "nbconvert_exporter": "python",
   "pygments_lexer": "ipython3",
   "version": "3.8.5"
  }
 },
 "nbformat": 4,
 "nbformat_minor": 4
}
